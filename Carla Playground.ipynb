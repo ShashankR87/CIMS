{
 "cells": [
  {
   "cell_type": "markdown",
   "id": "74a747dc",
   "metadata": {},
   "source": [
    "# Carla Playground"
   ]
  },
  {
   "cell_type": "markdown",
   "id": "def5cc2d",
   "metadata": {},
   "source": [
    "## Carla set-up"
   ]
  },
  {
   "cell_type": "code",
   "execution_count": 1,
   "id": "687a37c6",
   "metadata": {
    "ExecuteTime": {
     "end_time": "2023-11-09T00:02:07.458311Z",
     "start_time": "2023-11-09T00:02:07.397563Z"
    }
   },
   "outputs": [],
   "source": [
    "import carla \n",
    "import math \n",
    "import random \n",
    "import time "
   ]
  },
  {
   "cell_type": "code",
   "execution_count": 7,
   "id": "28107c6e",
   "metadata": {
    "ExecuteTime": {
     "end_time": "2023-11-09T00:04:50.819265Z",
     "start_time": "2023-11-09T00:04:50.793570Z"
    }
   },
   "outputs": [],
   "source": [
    "import glob\n",
    "import os\n",
    "import sys\n",
    "try:\n",
    "    sys.path.append(glob.glob('../carla/dist/carla-*%d.%d-%s.egg' % (\n",
    "    sys.version_info.major,\n",
    "    sys.version_info.minor,\n",
    "    'win-amd64' if os.name == 'nt' else 'linux-x86_64'))[0])\n",
    "except IndexError:\n",
    "    pass"
   ]
  },
  {
   "cell_type": "code",
   "execution_count": 8,
   "id": "33309298",
   "metadata": {
    "ExecuteTime": {
     "end_time": "2023-11-09T00:04:53.631665Z",
     "start_time": "2023-11-09T00:04:51.478537Z"
    }
   },
   "outputs": [],
   "source": [
    "client = carla.Client('localhost', 2000) \n",
    "world = client.get_world() "
   ]
  },
  {
   "cell_type": "code",
   "execution_count": 4,
   "id": "79f956e4",
   "metadata": {
    "ExecuteTime": {
     "end_time": "2023-11-08T18:42:45.333645Z",
     "start_time": "2023-11-08T18:42:45.323569Z"
    }
   },
   "outputs": [],
   "source": [
    "# settings = world.get_settings()\n",
    "# settings.synchronous_mode = True # Enables synchronous mode\n",
    "# # settings.fixed_delta_seconds = 0.05\n",
    "# world.apply_settings(settings)"
   ]
  },
  {
   "cell_type": "markdown",
   "id": "d7c604d5",
   "metadata": {},
   "source": [
    "## Fix spectator on top of intersection"
   ]
  },
  {
   "cell_type": "code",
   "execution_count": 10,
   "id": "61a038db",
   "metadata": {
    "ExecuteTime": {
     "end_time": "2023-11-09T00:05:18.035083Z",
     "start_time": "2023-11-09T00:05:18.000664Z"
    }
   },
   "outputs": [],
   "source": [
    "spectatorLoc = carla.Location(x=-47, y=16.8, z=60)\n",
    "spectator = world.get_spectator() \n",
    "transform = carla.Transform(spectatorLoc, carla.Rotation(-90)) \n",
    "spectator.set_transform(transform)"
   ]
  },
  {
   "cell_type": "markdown",
   "id": "80513bca",
   "metadata": {},
   "source": [
    "## Get spawn points and label on map"
   ]
  },
  {
   "cell_type": "code",
   "execution_count": 13,
   "id": "415aaddb",
   "metadata": {
    "ExecuteTime": {
     "end_time": "2023-11-09T00:06:11.817545Z",
     "start_time": "2023-11-09T00:06:11.542241Z"
    }
   },
   "outputs": [],
   "source": [
    "spawn_points = world.get_map().get_spawn_points()"
   ]
  },
  {
   "cell_type": "code",
   "execution_count": 92,
   "id": "59888d42",
   "metadata": {
    "ExecuteTime": {
     "end_time": "2023-11-09T01:05:57.379266Z",
     "start_time": "2023-11-09T01:05:57.371076Z"
    }
   },
   "outputs": [],
   "source": [
    "for i, spawn_point in enumerate(spawn_points):\n",
    "    world.debug.draw_string(spawn_point.location, str(i), life_time=1000)"
   ]
  },
  {
   "cell_type": "markdown",
   "id": "f804f5c6",
   "metadata": {
    "ExecuteTime": {
     "end_time": "2023-11-09T04:35:26.101993Z",
     "start_time": "2023-11-09T04:35:26.096484Z"
    }
   },
   "source": [
    "## Control car by varying throttle manually"
   ]
  },
  {
   "cell_type": "code",
   "execution_count": 98,
   "id": "7872aa94",
   "metadata": {
    "ExecuteTime": {
     "end_time": "2023-11-09T01:07:51.393707Z",
     "start_time": "2023-11-09T01:07:51.368912Z"
    }
   },
   "outputs": [],
   "source": [
    "bp_lib = world.get_blueprint_library() \n",
    "vehicle_bp = bp_lib.find('vehicle.jeep.wrangler_rubicon')\n",
    "vehicle1 = world.spawn_actor(vehicle_bp, spawn_points[28])"
   ]
  },
  {
   "cell_type": "code",
   "execution_count": 96,
   "id": "5d981bd4",
   "metadata": {
    "ExecuteTime": {
     "end_time": "2023-11-09T01:07:40.951858Z",
     "start_time": "2023-11-09T01:07:40.935128Z"
    }
   },
   "outputs": [],
   "source": [
    "def detect_collision(vehicle, collision_box):\n",
    "    if  ((vehicle.get_location().x >= collision_box.location.x - 1) and \\\n",
    "        (vehicle.get_location().x <= collision_box.location.x + 1)) and \\\n",
    "        ((vehicle.get_location().y >= collision_box.location.y - 1) and \\\n",
    "        (vehicle.get_location().y <= collision_box.location.y + 1)):\n",
    "            print('reached')\n",
    "            print(str(vehicle.get_location().x), ' ', str(vehicle.get_location().y))\n",
    "            return True\n",
    "    return False"
   ]
  },
  {
   "cell_type": "code",
   "execution_count": 99,
   "id": "cc655ca4",
   "metadata": {
    "ExecuteTime": {
     "end_time": "2023-11-09T01:08:02.257541Z",
     "start_time": "2023-11-09T01:07:57.862069Z"
    }
   },
   "outputs": [
    {
     "name": "stdout",
     "output_type": "stream",
     "text": [
      "reached\n",
      "-41.76508331298828   49.77585220336914\n"
     ]
    }
   ],
   "source": [
    "vehicle1.apply_control(carla.VehicleControl(throttle = 1.0))\n",
    "counter = 0\n",
    "while True:\n",
    "    counter += 1\n",
    "#     if counter % 1000 == 0:\n",
    "#         print(str(vehicle1.get_location().x) + ' ' + str(vehicle1.get_location().y))\n",
    "    if detect_collision(vehicle1, spawn_points[79]):\n",
    "        vehicle1.apply_control(carla.VehicleControl(hand_brake = True))\n",
    "        time.sleep(50)\n",
    "        vehicle1.destroy()\n",
    "        break"
   ]
  },
  {
   "cell_type": "markdown",
   "id": "30645821",
   "metadata": {
    "ExecuteTime": {
     "end_time": "2023-11-09T01:07:48.198535Z",
     "start_time": "2023-11-09T01:07:48.173822Z"
    }
   },
   "source": [
    "## Control car using traffic manager with custom path"
   ]
  },
  {
   "cell_type": "code",
   "execution_count": null,
   "id": "f2ab1fec",
   "metadata": {},
   "outputs": [],
   "source": [
    "'''\n",
    "Paths to make car move through the intersection (Direction is relative to the fixed spectator pov)\n",
    "N->E (49, 27)\n",
    "N->S (49, 3)\n",
    "N->W (50, 67)\n",
    "\n",
    "E->N (28, 57)\n",
    "E->S (137, 77)\n",
    "E->W (28, 95)\n",
    "\n",
    "S->E (85, 26)\n",
    "S->N (80, 56)\n",
    "S->W (80, 95)\n",
    "\n",
    "W->S (138, 2)\n",
    "W->E (139, 27)\n",
    "W->N (139, 56)\n",
    "'''"
   ]
  },
  {
   "cell_type": "code",
   "execution_count": null,
   "id": "e079590e",
   "metadata": {},
   "outputs": [],
   "source": [
    "bp_lib = world.get_blueprint_library() \n",
    "vehicle_bp = bp_lib.find('vehicle.jeep.wrangler_rubicon')\n",
    "vehicle1 = world.spawn_actor(vehicle_bp, spawn_points[50])"
   ]
  },
  {
   "cell_type": "code",
   "execution_count": 17,
   "id": "4bae29a6",
   "metadata": {
    "ExecuteTime": {
     "end_time": "2023-11-08T23:29:40.237198Z",
     "start_time": "2023-11-08T23:29:40.219321Z"
    }
   },
   "outputs": [],
   "source": [
    "route = [spawn_points[50].location, spawn_points[67].location]"
   ]
  },
  {
   "cell_type": "code",
   "execution_count": 18,
   "id": "87149e58",
   "metadata": {
    "ExecuteTime": {
     "end_time": "2023-11-08T23:29:41.470380Z",
     "start_time": "2023-11-08T23:29:41.451057Z"
    }
   },
   "outputs": [],
   "source": [
    "traffic_manager = client.get_trafficmanager(2000)"
   ]
  },
  {
   "cell_type": "code",
   "execution_count": 19,
   "id": "a8ae7fc8",
   "metadata": {
    "ExecuteTime": {
     "end_time": "2023-11-08T23:29:46.300437Z",
     "start_time": "2023-11-08T23:29:46.288314Z"
    }
   },
   "outputs": [],
   "source": [
    "#Set all traffic lights in the map to green\n",
    "list_actor = world.get_actors()\n",
    "for actor_ in list_actor:\n",
    "    if isinstance(actor_, carla.TrafficLight):\n",
    "        actor_.set_state(carla.TrafficLightState.Green) \n",
    "        actor_.set_green_time(1000.0)"
   ]
  },
  {
   "cell_type": "code",
   "execution_count": 20,
   "id": "f7c2f7dc",
   "metadata": {
    "ExecuteTime": {
     "end_time": "2023-11-08T23:29:49.041826Z",
     "start_time": "2023-11-08T23:29:49.017089Z"
    }
   },
   "outputs": [],
   "source": [
    "vehicle.set_autopilot(True)\n",
    "\n",
    "traffic_manager.update_vehicle_lights(vehicle, True)\n",
    "traffic_manager.random_left_lanechange_percentage(vehicle, 0)\n",
    "traffic_manager.random_right_lanechange_percentage(vehicle, 0)\n",
    "traffic_manager.auto_lane_change(vehicle, False)\n",
    "traffic_manager.ignore_lights_percentage(vehicle, 100)\n",
    "traffic_manager.ignore_vehicles_percentage(vehicle, 100)\n",
    "traffic_manager.ignore_signs_percentage(vehicle, 100)\n",
    "\n",
    "traffic_manager.set_path(vehicle, route)\n"
   ]
  }
 ],
 "metadata": {
  "kernelspec": {
   "display_name": "cps",
   "language": "python",
   "name": "cps"
  },
  "language_info": {
   "codemirror_mode": {
    "name": "ipython",
    "version": 3
   },
   "file_extension": ".py",
   "mimetype": "text/x-python",
   "name": "python",
   "nbconvert_exporter": "python",
   "pygments_lexer": "ipython3",
   "version": "3.7.5"
  },
  "toc": {
   "base_numbering": 1,
   "nav_menu": {},
   "number_sections": true,
   "sideBar": true,
   "skip_h1_title": false,
   "title_cell": "Table of Contents",
   "title_sidebar": "Contents",
   "toc_cell": false,
   "toc_position": {},
   "toc_section_display": true,
   "toc_window_display": false
  }
 },
 "nbformat": 4,
 "nbformat_minor": 5
}
